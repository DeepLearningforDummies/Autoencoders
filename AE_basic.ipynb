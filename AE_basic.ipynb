{
  "nbformat": 4,
  "nbformat_minor": 0,
  "metadata": {
    "colab": {
      "name": "AE.ipynb",
      "version": "0.3.2",
      "views": {},
      "default_view": {},
      "provenance": []
    },
    "kernelspec": {
      "name": "python3",
      "display_name": "Python 3"
    },
    "accelerator": "GPU"
  },
  "cells": [
    {
      "metadata": {
        "id": "7mriTIvYGK9G",
        "colab_type": "code",
        "colab": {
          "autoexec": {
            "startup": false,
            "wait_interval": 0
          }
        }
      },
      "cell_type": "code",
      "source": [
        "from __future__ import division, print_function, absolute_import\n",
        "\n",
        "import tensorflow as tf\n",
        "import numpy as np\n",
        "import matplotlib.pyplot as plt"
      ],
      "execution_count": 0,
      "outputs": []
    },
    {
      "metadata": {
        "id": "Eok_7yy6GYE5",
        "colab_type": "code",
        "colab": {
          "autoexec": {
            "startup": false,
            "wait_interval": 0
          },
          "base_uri": "https://localhost:8080/",
          "height": 153
        },
        "outputId": "9eadb487-f778-4385-f1d8-69b94aaf9847",
        "executionInfo": {
          "status": "ok",
          "timestamp": 1524077543056,
          "user_tz": 240,
          "elapsed": 1940,
          "user": {
            "displayName": "Shreyas Fadnavis",
            "photoUrl": "//lh6.googleusercontent.com/-lTb6_tU6HPg/AAAAAAAAAAI/AAAAAAAAAeM/YNPqxCeVvqQ/s50-c-k-no/photo.jpg",
            "userId": "114594346849476404443"
          }
        }
      },
      "cell_type": "code",
      "source": [
        "from tensorflow.examples.tutorials.mnist import input_data\n",
        "mnist = input_data.read_data_sets(\"/tmp/data/\", one_hot=True)"
      ],
      "execution_count": 2,
      "outputs": [
        {
          "output_type": "stream",
          "text": [
            "Successfully downloaded train-images-idx3-ubyte.gz 9912422 bytes.\n",
            "Extracting /tmp/data/train-images-idx3-ubyte.gz\n",
            "Successfully downloaded train-labels-idx1-ubyte.gz 28881 bytes.\n",
            "Extracting /tmp/data/train-labels-idx1-ubyte.gz\n",
            "Successfully downloaded t10k-images-idx3-ubyte.gz 1648877 bytes.\n",
            "Extracting /tmp/data/t10k-images-idx3-ubyte.gz\n",
            "Successfully downloaded t10k-labels-idx1-ubyte.gz 4542 bytes.\n",
            "Extracting /tmp/data/t10k-labels-idx1-ubyte.gz\n"
          ],
          "name": "stdout"
        }
      ]
    },
    {
      "metadata": {
        "id": "GHqoE6AmGf9I",
        "colab_type": "code",
        "colab": {
          "autoexec": {
            "startup": false,
            "wait_interval": 0
          }
        }
      },
      "cell_type": "code",
      "source": [
        "learning_rate = 0.01\n",
        "num_steps = 30000\n",
        "batch_size = 256\n",
        "\n",
        "display_step = 1000\n",
        "examples_to_show = 10\n",
        "\n",
        "# Network Parameters\n",
        "num_hidden_1 = 256 # 1st layer num features\n",
        "num_hidden_2 = 128 # 2nd layer num features (the latent dim)\n",
        "num_input = 784 # MNIST data input (img shape: 28*28)\n",
        "\n",
        "# tf Graph input (only pictures)\n",
        "X = tf.placeholder(\"float\", [None, num_input])\n",
        "\n",
        "weights = {\n",
        "    'encoder_h1': tf.Variable(tf.random_normal([num_input, num_hidden_1])),\n",
        "    'encoder_h2': tf.Variable(tf.random_normal([num_hidden_1, num_hidden_2])),\n",
        "    'decoder_h1': tf.Variable(tf.random_normal([num_hidden_2, num_hidden_1])),\n",
        "    'decoder_h2': tf.Variable(tf.random_normal([num_hidden_1, num_input])),\n",
        "}\n",
        "biases = {\n",
        "    'encoder_b1': tf.Variable(tf.random_normal([num_hidden_1])),\n",
        "    'encoder_b2': tf.Variable(tf.random_normal([num_hidden_2])),\n",
        "    'decoder_b1': tf.Variable(tf.random_normal([num_hidden_1])),\n",
        "    'decoder_b2': tf.Variable(tf.random_normal([num_input])),\n",
        "}"
      ],
      "execution_count": 0,
      "outputs": []
    },
    {
      "metadata": {
        "id": "dOyYtUzgGkhU",
        "colab_type": "code",
        "colab": {
          "autoexec": {
            "startup": false,
            "wait_interval": 0
          }
        }
      },
      "cell_type": "code",
      "source": [
        "# Building the encoder\n",
        "def encoder(x):\n",
        "    # Encoder Hidden layer with sigmoid activation #1\n",
        "    layer_1 = tf.nn.sigmoid(tf.add(tf.matmul(x, weights['encoder_h1']),\n",
        "                                   biases['encoder_b1']))\n",
        "    # Encoder Hidden layer with sigmoid activation #2\n",
        "    layer_2 = tf.nn.sigmoid(tf.add(tf.matmul(layer_1, weights['encoder_h2']),\n",
        "                                   biases['encoder_b2']))\n",
        "    return layer_2\n",
        "\n",
        "\n",
        "# Building the decoder\n",
        "def decoder(x):\n",
        "    # Decoder Hidden layer with sigmoid activation #1\n",
        "    layer_1 = tf.nn.sigmoid(tf.add(tf.matmul(x, weights['decoder_h1']),\n",
        "                                   biases['decoder_b1']))\n",
        "    # Decoder Hidden layer with sigmoid activation #2\n",
        "    layer_2 = tf.nn.sigmoid(tf.add(tf.matmul(layer_1, weights['decoder_h2']),\n",
        "                                   biases['decoder_b2']))\n",
        "    return layer_2\n",
        "\n",
        "# Construct model\n",
        "encoder_op = encoder(X)\n",
        "decoder_op = decoder(encoder_op)\n",
        "\n",
        "# Prediction\n",
        "y_pred = decoder_op\n",
        "# Targets (Labels) are the input data.\n",
        "y_true = X\n",
        "\n",
        "# Define loss and optimizer, minimize the squared error\n",
        "loss = tf.reduce_mean(tf.pow(y_true - y_pred, 2))\n",
        "optimizer = tf.train.RMSPropOptimizer(learning_rate).minimize(loss)\n",
        "\n",
        "# Initialize the variables (i.e. assign their default value)\n",
        "init = tf.global_variables_initializer()"
      ],
      "execution_count": 0,
      "outputs": []
    },
    {
      "metadata": {
        "id": "oS06Zi8UGrt_",
        "colab_type": "code",
        "colab": {
          "autoexec": {
            "startup": false,
            "wait_interval": 0
          },
          "base_uri": "https://localhost:8080/",
          "height": 544
        },
        "outputId": "1d0e787f-458c-428e-fb51-34a00e3c653c",
        "executionInfo": {
          "status": "ok",
          "timestamp": 1524078435512,
          "user_tz": 240,
          "elapsed": 744868,
          "user": {
            "displayName": "Shreyas Fadnavis",
            "photoUrl": "//lh6.googleusercontent.com/-lTb6_tU6HPg/AAAAAAAAAAI/AAAAAAAAAeM/YNPqxCeVvqQ/s50-c-k-no/photo.jpg",
            "userId": "114594346849476404443"
          }
        }
      },
      "cell_type": "code",
      "source": [
        "sess = tf.Session()\n",
        "\n",
        "# Run the initializer\n",
        "sess.run(init)\n",
        "\n",
        "# Training\n",
        "for i in range(1, num_steps+1):\n",
        "    # Prepare Data\n",
        "    # Get the next batch of MNIST data (only images are needed, not labels)\n",
        "    batch_x, _ = mnist.train.next_batch(batch_size)\n",
        "\n",
        "    # Run optimization op (backprop) and cost op (to get loss value)\n",
        "    _, l = sess.run([optimizer, loss], feed_dict={X: batch_x})\n",
        "    # Display logs per step\n",
        "    if i % display_step == 0 or i == 1:\n",
        "        print('Step %i: Minibatch Loss: %f' % (i, l))"
      ],
      "execution_count": 8,
      "outputs": [
        {
          "output_type": "stream",
          "text": [
            "Step 1: Minibatch Loss: 0.421328\n",
            "Step 1000: Minibatch Loss: 0.134237\n",
            "Step 2000: Minibatch Loss: 0.110573\n",
            "Step 3000: Minibatch Loss: 0.105650\n",
            "Step 4000: Minibatch Loss: 0.095484\n",
            "Step 5000: Minibatch Loss: 0.090149\n",
            "Step 6000: Minibatch Loss: 0.087678\n",
            "Step 7000: Minibatch Loss: 0.085025\n",
            "Step 8000: Minibatch Loss: 0.082134\n",
            "Step 9000: Minibatch Loss: 0.076197\n",
            "Step 10000: Minibatch Loss: 0.076083\n",
            "Step 11000: Minibatch Loss: 0.072501\n",
            "Step 12000: Minibatch Loss: 0.074524\n",
            "Step 13000: Minibatch Loss: 0.071293\n",
            "Step 14000: Minibatch Loss: 0.070214\n",
            "Step 15000: Minibatch Loss: 0.066682\n",
            "Step 16000: Minibatch Loss: 0.067170\n",
            "Step 17000: Minibatch Loss: 0.064345\n",
            "Step 18000: Minibatch Loss: 0.062900\n",
            "Step 19000: Minibatch Loss: 0.060222\n",
            "Step 20000: Minibatch Loss: 0.060068\n",
            "Step 21000: Minibatch Loss: 0.059942\n",
            "Step 22000: Minibatch Loss: 0.060997\n",
            "Step 23000: Minibatch Loss: 0.060056\n",
            "Step 24000: Minibatch Loss: 0.057995\n",
            "Step 25000: Minibatch Loss: 0.055789\n",
            "Step 26000: Minibatch Loss: 0.054848\n",
            "Step 27000: Minibatch Loss: 0.053018\n",
            "Step 28000: Minibatch Loss: 0.051139\n",
            "Step 29000: Minibatch Loss: 0.051533\n",
            "Step 30000: Minibatch Loss: 0.049980\n"
          ],
          "name": "stdout"
        }
      ]
    },
    {
      "metadata": {
        "id": "RNgvBCwGGylO",
        "colab_type": "code",
        "colab": {
          "autoexec": {
            "startup": false,
            "wait_interval": 0
          },
          "base_uri": "https://localhost:8080/",
          "height": 553
        },
        "outputId": "de91d3d8-c1d0-40c7-b0e2-d8edd7adca6c",
        "executionInfo": {
          "status": "ok",
          "timestamp": 1524078667067,
          "user_tz": 240,
          "elapsed": 551,
          "user": {
            "displayName": "Shreyas Fadnavis",
            "photoUrl": "//lh6.googleusercontent.com/-lTb6_tU6HPg/AAAAAAAAAAI/AAAAAAAAAeM/YNPqxCeVvqQ/s50-c-k-no/photo.jpg",
            "userId": "114594346849476404443"
          }
        }
      },
      "cell_type": "code",
      "source": [
        "# Encode and decode images from test set and visualize their reconstruction.\n",
        "n = 4\n",
        "canvas_orig = np.empty((28 * n, 28 * n))\n",
        "canvas_recon = np.empty((28 * n, 28 * n))\n",
        "for i in range(n):\n",
        "    # MNIST test set\n",
        "    batch_x, _ = mnist.test.next_batch(n)\n",
        "    # Encode and decode the digit image\n",
        "    g = sess.run(decoder_op, feed_dict={X: batch_x})\n",
        "    \n",
        "    # Display original images\n",
        "    for j in range(n):\n",
        "        # Draw the generated digits\n",
        "        canvas_orig[i * 28:(i + 1) * 28, j * 28:(j + 1) * 28] = batch_x[j].reshape([28, 28])\n",
        "    # Display reconstructed images\n",
        "    for j in range(n):\n",
        "        # Draw the generated digits\n",
        "        canvas_recon[i * 28:(i + 1) * 28, j * 28:(j + 1) * 28] = g[j].reshape([28, 28])\n",
        "\n",
        "print(\"Original Images\")     \n",
        "plt.figure(figsize=(n, n))\n",
        "plt.imshow(canvas_orig, origin=\"upper\", cmap=\"gray\")\n",
        "plt.show()\n",
        "\n",
        "print(\"Reconstructed Images\")\n",
        "plt.figure(figsize=(n, n))\n",
        "plt.imshow(canvas_recon, origin=\"upper\", cmap=\"gray\")\n",
        "plt.show()"
      ],
      "execution_count": 9,
      "outputs": [
        {
          "output_type": "stream",
          "text": [
            "Original Images\n"
          ],
          "name": "stdout"
        },
        {
          "output_type": "display_data",
          "data": {
            "image/png": "[encoded data removed]",
            "text/plain": [
              "<matplotlib.figure.Figure at 0x7f844c8789b0>"
            ]
          },
          "metadata": {
            "tags": []
          }
        },
        {
          "output_type": "stream",
          "text": [
            "Reconstructed Images\n"
          ],
          "name": "stdout"
        },
        {
          "output_type": "display_data",
          "data": {
            "image/png": "[encoded data removed]",
            "text/plain": [
              "<matplotlib.figure.Figure at 0x7f844c7eaa20>"
            ]
          },
          "metadata": {
            "tags": []
          }
        }
      ]
    }
  ]
}